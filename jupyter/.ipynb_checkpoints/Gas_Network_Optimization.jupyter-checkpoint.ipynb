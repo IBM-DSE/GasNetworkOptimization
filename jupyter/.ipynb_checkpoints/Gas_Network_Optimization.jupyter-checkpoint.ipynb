{
 "cells": [
  {
   "cell_type": "markdown",
   "metadata": {
    "deletable": true,
    "editable": true
   },
   "source": [
    "# Gas Network Optimization\n",
    "\n",
    "Table of contents:\n",
    "\n",
    "*  [Description of the business problem and the solution provided in this notebook](#Description-of-the-business-problem-and-the-solution-provided-in-this-notebook)\n",
    "*  [Description of the mathematical optimization model](#Description-of-the-mathematical-optimization-model)\n",
    "*  [Decision optimization](#Decision-optimization)\n",
    "    *  [Step 1: Initialization and data loading](#Step-1:-Initialization-and-data-loading)\n",
    "    *  [Step 2: Load parameters](#Step-2:-Load-parameters)\n",
    "    *  [Step 3: Model the data](#Step-3:-Model-the-data)\n",
    "        * [Visualize input gas network and extensions](#Visualize-input-gas-network-and-extensions)\n",
    "    *  [Step 4: Set up the optimization model](#Step-4:-Set-up-the-optimization-model)\n",
    "        * [Define the optimization variables](#Define-the-optimization-variables)\n",
    "        * [Express the physical constraints](#Express-the-physical-constraints)\n",
    "        * [Express the business objective](#Express-the-business-objective)\n",
    "    *  [Step 5: Solve model and save the solution](#Step-5:-Solve-model-and-save-the-solution)  \n",
    "    *  [Step 6: Investigate the solution](#Step-6:-Investigate-the-solution)\n",
    "****"
   ]
  },
  {
   "cell_type": "markdown",
   "metadata": {
    "deletable": true,
    "editable": true
   },
   "source": [
    "### Description of the business problem and the solution provided in this notebook\n",
    "\n",
    "A gas transmission system operator faces many different transportation issues. In this notebook we focus on the topology optimization problem. This problem is as follows:\n",
    "\n",
    "* Given is a set of different gas transportation scenarios. A scenario defines gas quantities for each node that are either fed in to the network or taken out.  The business question is: Which pipelines to select from a set of extension candidates and to add to the network in order to facilitate the transportation of gas quantities specified by the different scenarios. The selected extensions should be cost efficient due to construction costs of typically more than 1 Mio.€ per kilometer pipeline.\n",
    "* This planning process might be carried out manually by gas transmission system operators as follows: In a first step an adequate set of pipelines is added manually to the network model within an appropriate simulation software. In a second step, for each scenario, this software is used to check whether gas quantities according to the scenario can be transported through the network. If the transportation of these quantities is feasible for every scenario then the selected pipelines are a reasonable suggestion for extending the network. Otherwise the selection needs to be adapted.  \n",
    "* Due to this manual approach the computation of an optimal solution for only one single scenario as well as handling multiple scenarios is typically a challenging issue for gas transmission system operators.\n",
    "\n",
    "This notebook implements a mathematical optimization model which enables an automated solution approach for the topology optimization problem. The user can specify a list of input scenarios, the details of the gas transportation network and a list of extension candidates. As a result an optimal selection of the extension candidates is computed such that all gas scenarios are feasible in the network after adding the candidates to the network. Note that it is also possible to provide a single transportation scenario instead of multiple scenarios."
   ]
  },
  {
   "cell_type": "markdown",
   "metadata": {
    "deletable": true,
    "editable": true
   },
   "source": [
    "### Description of the mathematical optimization model\n",
    "\n",
    "In the following the mathematical optimization model is explained in detail:\n",
    "\n",
    "* In order to operate a gas network a pressure value must be assigned to each node in the network. The pressure difference at the end nodes of a pipeline induces a flow through the pipeline. The relation of the pressure values $p$ at the end nodes $v,w$ of a pipe and the gas flow $q$ through the pipe can roughly be described by the so-called weymouth equation $\\alpha \\, q|q| = p_v^2 - p_w^2$ for a pipeline specific constant $\\alpha$. In this notebook we use an approximation of this equation as follows: $\\alpha \\, q = p_v^2 - p_w^2$. Modeling the squared pressure values $p^2$ by $\\pi$ we express the approximation of the weymouth constraints by \n",
    "$$\\alpha_a \\, q_a - (\\pi_v - \\pi_w) = 0 \\quad a \\in A_{orig}$$\n",
    "The set $A_{orig}$ denotes the arc set of the input gas network. The squared pressure value at node $v$ is modeled by $\\pi_v$ and the flow through a pipeline $a$ by $q_a$.\n",
    "\n",
    "* Typically there are limits for the pressure because a pipeline would burst if a pressure value exceeds a certain limit. These pressure limits imply a bound of the overall transportation capacity of the gas network. In the model pressure bounds are added to express these pressure limits. Also the flow though pipelines can be bounded. The following constraints are used for expressing these bounds:\n",
    "\\begin{alignat}{2}\n",
    "\\underline \\pi_v \\le \\pi_v &\\le \\overline \\pi_v &&\\quad &v \\in V \\\\\n",
    "\\underline q_a \\le q_a &\\le \\overline q_a &&\\quad &a \\in A\n",
    "\\end{alignat}\n",
    "\n",
    "\n",
    "* Extension candidates are either build and the weymouth equation applies to them or they are not part of the network and the flow of the extension pipe equals zero. We use a decision variable $x_a$ for an extension pipe $a$ as follows:\n",
    "\\begin{alignat}{2}\n",
    "x_a = 1 \\Rightarrow \\alpha_a q_a - (\\pi_v - \\pi_w) &= 0 &&\\quad &a \\in A_{ext} \\\\\n",
    "x_a = 0 \\Rightarrow q_a &= 0 &&\\quad &a\\in A_{ext}\n",
    "\\end{alignat}\n",
    "The set $A_{ext}$ denotes the set of extension candidates.\n",
    "\n",
    "*  The flow through all pipelines must correspond to the specified transportation scenario $s$. At the nodes we have a flow conservation constraint:\n",
    "$$\\sum_{a \\in \\delta^+(v)} q_a - \\sum_{a \\in \\delta^-(v)} q_a = s_v \\quad v \\in V$$\n",
    "\n",
    "* The goal is to compute an optimal selection of the extensions, so investment costs have to be minimal:\n",
    "$$\\min_{a \\in A_{ext}} c_a x_a$$\n",
    "\n",
    "This model is implemented in [Step 4: Set up the optimization model](#Step-4:-Set-up-the-optimization-model)."
   ]
  },
  {
   "cell_type": "markdown",
   "metadata": {
    "deletable": true,
    "editable": true
   },
   "source": [
    "## Decision optimization"
   ]
  },
  {
   "cell_type": "markdown",
   "metadata": {
    "deletable": true,
    "editable": true
   },
   "source": [
    "## Step 1: Initialization and data loading\n",
    "\n",
    "#### Reset kernel\n",
    "Reset the Jupyter kernel: clears all variables and functions.<br>\n",
    "This supports code refactoring. If not, old variables/functions are still present in the kernel and you may not see an exception when these old defintions are still used in the current code.<br>\n",
    "Same can be done through resetting the kernel, but that is a very slow process.<br>\n",
    "The magic command '%reset' can also be called through an API. The flag '-f' avoids the manual confirmation of the reset. "
   ]
  },
  {
   "cell_type": "code",
   "execution_count": 1,
   "metadata": {
    "collapsed": true,
    "deletable": true,
    "editable": true
   },
   "outputs": [],
   "source": [
    "#dd-ignore\n",
    "#Clear state: is faster than resetting the kernel\n",
    "# from IPython import get_ipython\n",
    "# get_ipython().magic('reset -sf') \n",
    "%reset -f"
   ]
  },
  {
   "cell_type": "markdown",
   "metadata": {
    "deletable": true,
    "editable": true
   },
   "source": [
    "#### Imports"
   ]
  },
  {
   "cell_type": "code",
   "execution_count": 2,
   "metadata": {
    "collapsed": true,
    "deletable": true,
    "editable": true
   },
   "outputs": [],
   "source": [
    "import pandas as pd"
   ]
  },
  {
   "cell_type": "code",
   "execution_count": 3,
   "metadata": {
    "collapsed": true,
    "deletable": true,
    "editable": true
   },
   "outputs": [],
   "source": [
    "#dd-ignore\n",
    "from dd_scenario import *\n",
    "\n",
    "#Create a client...\n",
    "client = Client()"
   ]
  },
  {
   "cell_type": "markdown",
   "metadata": {
    "deletable": true,
    "editable": true
   },
   "source": [
    "#### Loads scenario data from scenario repository. Only used in notebook run."
   ]
  },
  {
   "cell_type": "code",
   "execution_count": 4,
   "metadata": {
    "collapsed": false,
    "deletable": true,
    "editable": true
   },
   "outputs": [],
   "source": [
    "#dd-ignore\n",
    "\n",
    "#Get 'Gas Opt' decision...\n",
    "dd_model_builder = client.get_model_builder(name=\"Gas_Network_Optimization\")\n",
    "\n",
    "#Get scenario 'Scenario 1'...\n",
    "scenario = dd_model_builder.get_scenario(name=\"Transport Scenario 1+2 (scale by 1.75)\")\n",
    "\n",
    "#Load all input data as a map { data_name: data_frame }\n",
    "inputs = scenario.get_tables_data(category='input')\n",
    "# This will hold all outputs as a map { data_name: data_frame }\n",
    "outputs = {}\n",
    "\n",
    "# we use a lock to access ``outputs``. This allows solves() to\n",
    "# be aborted without race condition in data writting\n",
    "import threading\n",
    "output_lock = threading.Lock()"
   ]
  },
  {
   "cell_type": "markdown",
   "metadata": {
    "deletable": true,
    "editable": true
   },
   "source": [
    "Extract input data"
   ]
  },
  {
   "cell_type": "code",
   "execution_count": 5,
   "metadata": {
    "collapsed": false,
    "deletable": true,
    "editable": true
   },
   "outputs": [],
   "source": [
    "gasnetworkNodes = inputs['gasnetwork_nodes']\n",
    "gasnetworkPipes = inputs['gasnetwork_pipes']\n",
    "gasnetworkExtensions = inputs['gasnetwork_extensions']\n",
    "gasnetworkScenarios = []\n",
    "for name in [s for s in inputs.keys() if \"scenario\" in s]:\n",
    "    gasnetworkScenarios.append(inputs[name])"
   ]
  },
  {
   "cell_type": "markdown",
   "metadata": {
    "deletable": true,
    "editable": true
   },
   "source": [
    "## Step 2: Load parameters"
   ]
  },
  {
   "cell_type": "markdown",
   "metadata": {
    "deletable": true,
    "editable": true
   },
   "source": [
    "Read parameters from file Parameter"
   ]
  },
  {
   "cell_type": "code",
   "execution_count": 6,
   "metadata": {
    "collapsed": false,
    "deletable": true,
    "editable": true
   },
   "outputs": [
    {
     "data": {
      "text/html": [
       "<div>\n",
       "<style scoped>\n",
       "    .dataframe tbody tr th:only-of-type {\n",
       "        vertical-align: middle;\n",
       "    }\n",
       "\n",
       "    .dataframe tbody tr th {\n",
       "        vertical-align: top;\n",
       "    }\n",
       "\n",
       "    .dataframe thead th {\n",
       "        text-align: right;\n",
       "    }\n",
       "</style>\n",
       "<table border=\"1\" class=\"dataframe\">\n",
       "  <thead>\n",
       "    <tr style=\"text-align: right;\">\n",
       "      <th></th>\n",
       "      <th>value</th>\n",
       "    </tr>\n",
       "    <tr>\n",
       "      <th>param</th>\n",
       "      <th></th>\n",
       "    </tr>\n",
       "  </thead>\n",
       "  <tbody>\n",
       "    <tr>\n",
       "      <th>scenarioScale</th>\n",
       "      <td>1.75</td>\n",
       "    </tr>\n",
       "  </tbody>\n",
       "</table>\n",
       "</div>"
      ],
      "text/plain": [
       "               value\n",
       "param               \n",
       "scenarioScale   1.75"
      ]
     },
     "execution_count": 6,
     "metadata": {},
     "output_type": "execute_result"
    }
   ],
   "source": [
    "#Parameter table (assumes 'param' and 'value' pairs)\n",
    "if 'Parameter' in inputs.keys():\n",
    "    params = inputs['Parameter'].set_index(['param'])\n",
    "else:\n",
    "    params = pd.DataFrame(columns=['param','value']).set_index('param')\n",
    "params"
   ]
  },
  {
   "cell_type": "markdown",
   "metadata": {
    "deletable": true,
    "editable": true
   },
   "source": [
    "Define the scaling value, each scenario will be scaled by this value. A value of 1.0 means that the gas quantities specified in the scenarios set are considered without modification. "
   ]
  },
  {
   "cell_type": "code",
   "execution_count": 7,
   "metadata": {
    "collapsed": false,
    "deletable": true,
    "editable": true
   },
   "outputs": [],
   "source": [
    "scale = 1.0 # feasible setting, no network extensions needed\n",
    "if 'scenarioScale' in params.index:\n",
    "    scale = float(params.loc['scenarioScale'].value)"
   ]
  },
  {
   "cell_type": "markdown",
   "metadata": {
    "deletable": true,
    "editable": true
   },
   "source": [
    "## Step 3: Model the data\n",
    "\n",
    "* a data store is used for storing the gas network and the scenarios\n",
    "* all nodes are read from file gasnetwork_nodes\n",
    "* all pipes are read from file gasnetwork_pipes\n",
    "* all extension candidates are read from file gasnetwork_extensions\n",
    "* several scenarios are read from several files gasnetwork_scn*"
   ]
  },
  {
   "cell_type": "code",
   "execution_count": 8,
   "metadata": {
    "collapsed": false,
    "deletable": true,
    "editable": true
   },
   "outputs": [],
   "source": [
    "import networkx as nx\n",
    "from math import pow, sqrt, log\n",
    "\n",
    "class DataStore:\n",
    "    \"\"\"\n",
    "    Class DataStore.\n",
    "\n",
    "    This class is used to store the network, the extension candidates and the scenarios.\n",
    "    A directed graph is used for the network and the candidates. Node and arc attributes\n",
    "    store  the provided network information. Several access functions are provided for \n",
    "    accessing the data. \n",
    "    \"\"\"\n",
    "    def __init__(self, gasnetworkNodes, gasnetworkPipes, gasnetworkExtensions, gasnetworkScenarios, scale, inputs):\n",
    "\n",
    "        assert isinstance(scale, float)\n",
    "        self.scale = scale\n",
    "        self.G = nx.DiGraph()\n",
    "\n",
    "        print(\"\\nThe following gas network and extension candidates are loaded:\\n\")\n",
    "\n",
    "        self.__readNodes(gasnetworkNodes)\n",
    "        self.__readPipes(gasnetworkPipes)\n",
    "        self.__readExtensionCandidates(gasnetworkExtensions)\n",
    "        self.__readScenarios(gasnetworkScenarios)\n",
    "\n",
    "    def __readNodes(self, gasnetworkNodes):\n",
    "        inputDataNodes = gasnetworkNodes\n",
    "        assert inputDataNodes['name'].dtype == object\n",
    "        assert inputDataNodes['x'].dtype == float\n",
    "        assert inputDataNodes['y'].dtype == float\n",
    "        assert inputDataNodes['pressureMin'].dtype == float\n",
    "        assert inputDataNodes['pressureMax'].dtype == float\n",
    "        assert inputDataNodes['isSource'].dtype == int\n",
    "\n",
    "        for index, row in inputDataNodes.iterrows():\n",
    "            self.G.add_node(row['name'], \n",
    "                            pos=(row['x'],row['y']),\n",
    "                            pressureMin=row['pressureMin'],\n",
    "                            pressureMax=row['pressureMax'],\n",
    "                            isSource=row['isSource'])\n",
    "            \n",
    "        print(\"\\nNodes:\\n\")\n",
    "        print inputDataNodes\n",
    "        \n",
    "    def __readPipes(self, gasnetworkPipes):\n",
    "        inputDataPipes = gasnetworkPipes\n",
    "        assert inputDataPipes['from'].dtype == object\n",
    "        assert inputDataPipes['to'].dtype == object\n",
    "        assert inputDataPipes['flowMin'].dtype == int\n",
    "        assert inputDataPipes['flowMax'].dtype == int\n",
    "        assert inputDataPipes['length'].dtype == float\n",
    "        assert inputDataPipes['diameter'].dtype == int\n",
    "        assert inputDataPipes['name'].dtype == object\n",
    "\n",
    "        for index, row in inputDataPipes.iterrows():\n",
    "            weymouthConst = self.__computeWeymouthConst(row['length'],row['diameter'])\n",
    "            self.G.add_edge(row['from'], \n",
    "                            row['to'],\n",
    "                            flowMin=row['flowMin'],\n",
    "                            flowMax=row['flowMax'],\n",
    "                            length=row['length'],\n",
    "                            diameter=row['diameter'],\n",
    "                            name=row['name'],\n",
    "                            weymouth=weymouthConst,\n",
    "                            isOriginal=True)\n",
    "            \n",
    "        print(\"\\nPipes:\\n\")\n",
    "        print inputDataPipes\n",
    "         \n",
    "    def __readExtensionCandidates(self, gasnetworkExtensions):\n",
    "        extensions = gasnetworkExtensions\n",
    "        assert extensions['from'].dtype == object\n",
    "        assert extensions['to'].dtype == object\n",
    "        assert extensions['length'].dtype == float\n",
    "        assert extensions['diameter'].dtype == float\n",
    "        assert extensions['cost'].dtype == float\n",
    "        assert extensions['name'].dtype == object\n",
    "\n",
    "        for index, row in extensions.iterrows():\n",
    "            weymouthConst = self.__computeWeymouthConst(row['length'],row['diameter'])                       \n",
    "            self.G.add_edge(row['from'], \n",
    "                            row['to'],\n",
    "                            flowMin=-1000000,\n",
    "                            flowMax=1000000,\n",
    "                            length=row['length'],\n",
    "                            diameter=row['diameter'],\n",
    "                            name=row['name'],\n",
    "                            weymouth=weymouthConst,\n",
    "                            cost=row['cost'],\n",
    "                            isOriginal=False)\n",
    "            \n",
    "        print(\"\\nExtension candidates:\\n\")\n",
    "        print extensions\n",
    "        \n",
    "    def __readScenarios(self, gasnetworkScenarios):\n",
    "        self.scnList = []\n",
    "        for scn in gasnetworkScenarios:\n",
    "            scenario = {}\n",
    "            assert scn['name'].dtype == object\n",
    "            assert scn['value'].dtype == float\n",
    "            for index, row in scn.iterrows():\n",
    "                scenario[row['name']] = row['value']\n",
    "            self.scnList.append(scenario)\n",
    "            \n",
    "    def __computeWeymouthConst(self, length, diameter):\n",
    "        length = float(length) # in km\n",
    "        diameter = float(diameter) # in mm\n",
    "        roughness = 0.05\n",
    "        temperature = 281.15;\n",
    "        density = 0.616;\n",
    "        zValue = 0.8;\n",
    "\n",
    "        c = diameter\n",
    "        c = pow(c,  5) * pow((2 * log(3.7 * c / roughness) / log(10)), 2) * 96.074830e-15\n",
    "        c = c / (zValue * temperature * length * density);\n",
    "        c = float(int(c*100.0)) / 100.0\n",
    "\n",
    "        return c\n",
    "\n",
    "    def getScnList(self):\n",
    "        return self.scnList\n",
    "\n",
    "    def getNodes(self):\n",
    "        return self.G.nodes()\n",
    "\n",
    "    def getArcs(self):\n",
    "        return self.G.edges()\n",
    "\n",
    "    def getOrigArcs(self):\n",
    "        isOriginal = nx.get_edge_attributes(self.G, 'isOriginal')\n",
    "        return [arc for arc in self.G.edges() if isOriginal[arc]]\n",
    "\n",
    "    def getExtArcs(self):\n",
    "        isOriginal = nx.get_edge_attributes(self.G, 'isOriginal')\n",
    "        return [arc for arc in self.G.edges() if isOriginal[arc] == False]\n",
    "\n",
    "    def getFromNode(self, arc):\n",
    "        return arc[0]\n",
    "    \n",
    "    def getToNode(self, arc):\n",
    "        return arc[1]\n",
    "\n",
    "    def isSource(self, node):\n",
    "        isSource = nx.get_node_attributes(self.G, 'isSource')\n",
    "        return bool(isSource[node])\n",
    "    \n",
    "    def getOutArcs(self, node):\n",
    "        return self.G.out_edges(node)\n",
    "\n",
    "    def getInArcs(self, node):\n",
    "        return self.G.in_edges(node)\n",
    "\n",
    "    def getNodePressureMax(self, node):\n",
    "        pressureMax = nx.get_node_attributes(self.G, 'pressureMax')\n",
    "        return float(pressureMax[node])\n",
    "\n",
    "    def getNodePressureMin(self, node):\n",
    "        pressureMin = nx.get_node_attributes(self.G, 'pressureMin')\n",
    "        return float(pressureMin[node])\n",
    "\n",
    "    def getArcFlowMax(self, arc):\n",
    "        flowMax = nx.get_edge_attributes(self.G, 'flowMax')\n",
    "        return float(flowMax[arc])\n",
    "\n",
    "    def getArcFlowMin(self, arc):\n",
    "        flowMin = nx.get_edge_attributes(self.G, 'flowMin')\n",
    "        return float(flowMin[arc])\n",
    "\n",
    "    def getArcCost(self, arc):\n",
    "        cost = nx.get_edge_attributes(self.G, 'cost')\n",
    "        return float(cost[arc])\n",
    "    \n",
    "    def getWeymouthConst(self, arc):\n",
    "        weymouth = nx.get_edge_attributes(self.G, 'weymouth')\n",
    "        return float(weymouth[arc])\n",
    "    \n",
    "    def getArcLength(self, arc):\n",
    "        length = nx.get_edge_attributes(self.G, 'length')\n",
    "        return float(length[arc])\n",
    "    \n",
    "    def getArcDiameter(self, arc):\n",
    "        diameter = nx.get_edge_attributes(self.G, 'diameter')\n",
    "        return float(diameter[arc])\n",
    "    \n",
    "    def getArcName(self, arc):\n",
    "        name = nx.get_edge_attributes(self.G, 'name')\n",
    "        return name[arc]\n",
    "    \n",
    "    def getGraphCopy(self):\n",
    "        return self.G.copy()\n",
    "    \n",
    "    def getScnScale(self):\n",
    "        return self.scale"
   ]
  },
  {
   "cell_type": "code",
   "execution_count": 9,
   "metadata": {
    "collapsed": false,
    "deletable": true,
    "editable": true
   },
   "outputs": [
    {
     "name": "stdout",
     "output_type": "stream",
     "text": [
      "\n",
      "The following gas network and extension candidates are loaded:\n",
      "\n",
      "\n",
      "Nodes:\n",
      "\n",
      "        name  pressureMax  pressureMin        x         y  isSource\n",
      "0   source_1     81.01325      1.01325  1542.80  5682.200         1\n",
      "1   source_2     81.01325      1.01325    63.64  5331.800         1\n",
      "2   source_3     81.01325      1.01325  5451.70  7845.400         1\n",
      "3     sink_1     81.01325      1.01325   848.52    16.263         0\n",
      "4     sink_2     81.01325      1.01325  1308.80  4287.400         0\n",
      "5     sink_3     81.01325      1.01325  1780.30  5458.000         0\n",
      "6     sink_4     81.01325      1.01325  2032.80  2162.200         0\n",
      "7     sink_5     81.01325      1.01325  2031.50  1442.800         0\n",
      "8     sink_6     81.01325      1.01325  1744.10  1126.900         0\n",
      "9     sink_7     81.01325      1.01325  1836.00  1150.200         0\n",
      "10    sink_8     81.01325      1.01325  2374.10  2105.300         0\n",
      "11    sink_9     81.01325      1.01325  1019.00  1838.100         0\n",
      "12   sink_10     81.01325      1.01325  4080.10  5171.700         0\n",
      "13   sink_11     81.01325      1.01325  4435.60  4889.600         0\n",
      "14   sink_12     81.01325      1.01325  2539.20    20.875         0\n",
      "15   sink_13     81.01325      1.01325  2630.70  4426.500         0\n",
      "16   sink_14     81.01325      1.01325  2789.00  4499.200         0\n",
      "17   sink_15     81.01325      1.01325  1603.00  4409.000         0\n",
      "18   sink_16     81.01325      1.01325  6304.10  4154.100         0\n",
      "19   sink_17     81.01325      1.01325  2173.60  1938.900         0\n",
      "20   sink_18     81.01325      1.01325  1067.90  1592.700         0\n",
      "21   sink_19     81.01325      1.01325  4716.90  6739.300         0\n",
      "22   sink_20     81.01325      1.01325  2315.20  2584.400         0\n",
      "23   sink_21     81.01325      1.01325  2444.60   305.560         0\n",
      "24   sink_22     81.01325      1.01325  1139.40   360.630         0\n",
      "25   sink_23     81.01325      1.01325  1815.80  5766.700         0\n",
      "26   sink_24     81.01325      1.01325  2415.70   376.260         0\n",
      "27   sink_25     81.01325      1.01325  2034.90  4211.200         0\n",
      "28   sink_26     81.01325      1.01325  1154.50  2230.500         0\n",
      "29   sink_27     81.01325      1.01325  4638.60  7395.200         0\n",
      "30   sink_28     81.01325      1.01325   744.33  5472.000         0\n",
      "31   sink_29     81.01325      1.01325   867.37  4930.600         0\n",
      "\n",
      "Pipes:\n",
      "\n",
      "       name      from        to  diameter     length  flowMin  flowMax\n",
      "0    pipe_1  source_1    sink_3      1000  13.071085 -1000000  1000000\n",
      "1    pipe_2   sink_11   sink_16       800  76.893551 -1000000  1000000\n",
      "2    pipe_3   sink_25   sink_13      1000  21.557566 -1000000  1000000\n",
      "3    pipe_4   sink_13   sink_14      1000   6.998054 -1000000  1000000\n",
      "4    pipe_5   sink_14   sink_10       800  58.218970 -1000000  1000000\n",
      "5    pipe_6   sink_25   sink_26       800  86.690266 -1000000  1000000\n",
      "6    pipe_7   sink_26    sink_9       600  16.579326 -1000000  1000000\n",
      "7    pipe_8    sink_9   sink_18       600  10.022783 -1000000  1000000\n",
      "8    pipe_9   sink_26    sink_4       600  35.218839 -1000000  1000000\n",
      "9   pipe_10    sink_4   sink_20       600  20.322205 -1000000  1000000\n",
      "10  pipe_11   sink_18    sink_6       800  32.868203 -1000000  1000000\n",
      "11  pipe_12   sink_25    sink_3       800  47.488284 -1000000  1000000\n",
      "12  pipe_13    sink_6    sink_7       600   3.802587 -1000000  1000000\n",
      "13  pipe_14    sink_6   sink_22       800  39.036042 -1000000  1000000\n",
      "14  pipe_15    sink_7   sink_24       400  38.659824 -1000000  1000000\n",
      "15  pipe_16   sink_22    sink_1       600  18.017850 -1000000  1000000\n",
      "16  pipe_17   sink_24   sink_21       600   3.067547 -1000000  1000000\n",
      "17  pipe_18   sink_21   sink_12       400  12.015875 -1000000  1000000\n",
      "18  pipe_19    sink_7    sink_5       400  14.043114 -1000000  1000000\n",
      "19  pipe_20    sink_5   sink_17       600  20.634698 -1000000  1000000\n",
      "20  pipe_21   sink_17    sink_4       600  10.586129 -1000000  1000000\n",
      "21  pipe_22   sink_17    sink_8       600  10.452031 -1000000  1000000\n",
      "22  pipe_23    sink_3   sink_23       800  12.397352 -1000000  1000000\n",
      "23  pipe_24    sink_8   sink_20       600  19.303192 -1000000  1000000\n",
      "24  pipe_25   sink_25   sink_20       600  66.036595 -1000000  1000000\n",
      "25  pipe_26   sink_25   sink_15      1000  18.969413 -1000000  1000000\n",
      "26  pipe_27   sink_15   sink_29       800  36.061010 -1000000  1000000\n",
      "27  pipe_28   sink_29   sink_28       800  22.224153 -1000000  1000000\n",
      "28  pipe_29   sink_29    sink_2       800  31.179619 -1000000  1000000\n",
      "29  pipe_30    sink_2   sink_15      1000  12.766703 -1000000  1000000\n",
      "30  pipe_31   sink_29  source_2       800  32.921260 -1000000  1000000\n",
      "31  pipe_32  source_3   sink_19       800  49.866148 -1000000  1000000\n",
      "32  pipe_33   sink_19   sink_27      1000   3.418008 -1000000  1000000\n",
      "33  pipe_34   sink_27  source_3      1000  32.449372 -1000000  1000000\n",
      "34  pipe_35   sink_27   sink_19       800  26.427482 -1000000  1000000\n",
      "35  pipe_36   sink_10   sink_11      1000  18.136597 -1000000  1000000\n",
      "36  pipe_37   sink_10   sink_19       800  65.057174 -1000000  1000000\n",
      "37  pipe_38   sink_10   sink_19       800  65.532213 -1000000  1000000\n",
      "\n",
      "Extension candidates:\n",
      "\n",
      "         name      from        to  diameter  length    cost\n",
      "0  extension1    sink_1   sink_24     450.0   68.41  171.33\n",
      "1  extension2   sink_26  source_2    1000.0   62.28  457.68\n",
      "2  extension3  source_1  source_3    1000.0   63.78  320.81\n",
      "3  extension4   sink_25   sink_12     405.0   60.21  378.87\n"
     ]
    }
   ],
   "source": [
    "ds = DataStore(gasnetworkNodes, gasnetworkPipes, gasnetworkExtensions, gasnetworkScenarios, scale, inputs)"
   ]
  },
  {
   "cell_type": "markdown",
   "metadata": {
    "deletable": true,
    "editable": true
   },
   "source": [
    "#### Visualize input gas network and extensions"
   ]
  },
  {
   "cell_type": "code",
   "execution_count": 10,
   "metadata": {
    "collapsed": false,
    "deletable": true,
    "editable": true,
    "scrolled": false
   },
   "outputs": [
    {
     "name": "stdout",
     "output_type": "stream",
     "text": [
      "Original gas network:\n",
      "\n"
     ]
    },
    {
     "name": "stderr",
     "output_type": "stream",
     "text": [
      "/opt/conda/lib/python2.7/site-packages/networkx/drawing/nx_pylab.py:126: MatplotlibDeprecationWarning: pyplot.hold is deprecated.\n",
      "    Future behavior will be consistent with the long-time default:\n",
      "    plot commands add elements without first clearing the\n",
      "    Axes and/or Figure.\n",
      "  b = plt.ishold()\n",
      "/opt/conda/lib/python2.7/site-packages/networkx/drawing/nx_pylab.py:138: MatplotlibDeprecationWarning: pyplot.hold is deprecated.\n",
      "    Future behavior will be consistent with the long-time default:\n",
      "    plot commands add elements without first clearing the\n",
      "    Axes and/or Figure.\n",
      "  plt.hold(b)\n",
      "/opt/conda/lib/python2.7/site-packages/matplotlib/__init__.py:917: UserWarning: axes.hold is deprecated. Please remove it from your matplotlibrc and/or style files.\n",
      "  warnings.warn(self.msg_depr_set % key)\n",
      "/opt/conda/lib/python2.7/site-packages/matplotlib/rcsetup.py:152: UserWarning: axes.hold is deprecated, will be removed in 3.0\n",
      "  warnings.warn(\"axes.hold is deprecated, will be removed in 3.0\")\n"
     ]
    },
    {
     "data": {
      "image/png": "[encoded data removed]",
      "text/plain": [
       "<matplotlib.figure.Figure at 0x7f39c0231110>"
      ]
     },
     "metadata": {},
     "output_type": "display_data"
    },
    {
     "name": "stdout",
     "output_type": "stream",
     "text": [
      "Original gas network with extension candidates:\n",
      "\n"
     ]
    },
    {
     "data": {
      "image/png": "[encoded data removed]",
      "text/plain": [
       "<matplotlib.figure.Figure at 0x7f39c248acd0>"
      ]
     },
     "metadata": {},
     "output_type": "display_data"
    }
   ],
   "source": [
    "#dd-ignore\n",
    "import matplotlib.pyplot as plt\n",
    "\n",
    "print(\"Original gas network:\\n\")\n",
    "H = ds.getGraphCopy()\n",
    "for arc in ds.getExtArcs():\n",
    "    H.remove_edge(*arc)\n",
    "nx.draw(H, \n",
    "        nx.get_node_attributes(H, 'pos'), \n",
    "        arrows=False)\n",
    "plt.show()\n",
    "\n",
    "print(\"Original gas network with extension candidates:\\n\")\n",
    "H = ds.getGraphCopy()\n",
    "for arc in ds.getExtArcs():\n",
    "    H.remove_edge(*arc)\n",
    "nx.draw(H, \n",
    "        nx.get_node_attributes(H, 'pos'), \n",
    "        arrows=False)\n",
    "nx.draw_networkx_edges(H,\n",
    "                       nx.get_node_attributes(H, 'pos'),\n",
    "                       edgelist=ds.getExtArcs(),\n",
    "                       arrows=False,\n",
    "                       edge_color='b',\n",
    "                       width=3)\n",
    "plt.show()"
   ]
  },
  {
   "cell_type": "markdown",
   "metadata": {
    "deletable": true,
    "editable": true
   },
   "source": [
    "### Step 4: Set up the optimization model"
   ]
  },
  {
   "cell_type": "code",
   "execution_count": 11,
   "metadata": {
    "collapsed": true,
    "deletable": true,
    "editable": true
   },
   "outputs": [],
   "source": [
    "from docplex.mp.model import Model\n",
    "mdl = Model(name=\"Gas_Network_Optimization\")"
   ]
  },
  {
   "cell_type": "markdown",
   "metadata": {
    "deletable": true,
    "editable": true
   },
   "source": [
    "#### Define the optimization variables\n",
    "\n",
    "Define the decision variables for deciding whether an extension candidate is build"
   ]
  },
  {
   "cell_type": "code",
   "execution_count": 12,
   "metadata": {
    "collapsed": true,
    "deletable": true,
    "editable": true
   },
   "outputs": [],
   "source": [
    "x = {}\n",
    "for arc in ds.getExtArcs():\n",
    "    x[arc] = mdl.binary_var(name=\"x(%s,%s)\" % (ds.getFromNode(arc), ds.getToNode(arc)))"
   ]
  },
  {
   "cell_type": "markdown",
   "metadata": {
    "deletable": true,
    "editable": true
   },
   "source": [
    "For each scenario define the squared pressure variables for  each node and the flow variables for each arc"
   ]
  },
  {
   "cell_type": "code",
   "execution_count": 13,
   "metadata": {
    "collapsed": false,
    "deletable": true,
    "editable": true
   },
   "outputs": [],
   "source": [
    "pi = {}\n",
    "q = {}\n",
    "for index in range(len(ds.getScnList())):\n",
    "    for node in ds.getNodes():\n",
    "        pi[node,index] = mdl.continuous_var(name=\"p(%s,%s)\" % (node,index), \n",
    "                                            ub=int(pow(ds.getNodePressureMax(node), 2)),\n",
    "                                            lb=int(pow(ds.getNodePressureMin(node), 2)))\n",
    "\n",
    "    for arc in ds.getArcs():\n",
    "        q[arc,index] = mdl.continuous_var(name=\"q(%s,%s,%s)\" % (ds.getFromNode(arc), ds.getToNode(arc), index), \n",
    "                                          ub=ds.getArcFlowMax(arc), \n",
    "                                          lb=ds.getArcFlowMin(arc))"
   ]
  },
  {
   "cell_type": "markdown",
   "metadata": {
    "deletable": true,
    "editable": true
   },
   "source": [
    "#### Express the physical constraints"
   ]
  },
  {
   "cell_type": "markdown",
   "metadata": {
    "deletable": true,
    "editable": true
   },
   "source": [
    "Add flow conservation constraints for every scenario"
   ]
  },
  {
   "cell_type": "code",
   "execution_count": 14,
   "metadata": {
    "collapsed": true,
    "deletable": true,
    "editable": true
   },
   "outputs": [],
   "source": [
    "for index, scn in enumerate(ds.getScnList()):\n",
    "    for node in ds.getNodes():\n",
    "        scale = ds.getScnScale()\n",
    "        mdl.add_constraint(mdl.sum(q[arc,index] for arc in ds.getOutArcs(node)) - \n",
    "                           mdl.sum(q[arc,index] for arc in ds.getInArcs(node)) == scn[node] * scale)\n"
   ]
  },
  {
   "cell_type": "markdown",
   "metadata": {
    "deletable": true,
    "editable": true
   },
   "source": [
    "Add approximation of weymouth constraints for every arc in every scenario stating that arc flow is induced by the squared pressure difference at the end nodes"
   ]
  },
  {
   "cell_type": "code",
   "execution_count": 15,
   "metadata": {
    "collapsed": true,
    "deletable": true,
    "editable": true
   },
   "outputs": [],
   "source": [
    "for index in range(len(ds.getScnList())):\n",
    "    for arc in ds.getOrigArcs():\n",
    "        mdl.add_constraint(q[arc,index] -\n",
    "                           ds.getWeymouthConst(arc) * pi[ds.getFromNode(arc),index] +\n",
    "                           ds.getWeymouthConst(arc) * pi[ds.getToNode(arc),index] == 0)"
   ]
  },
  {
   "cell_type": "markdown",
   "metadata": {
    "deletable": true,
    "editable": true
   },
   "source": [
    "Add approximation of weymouth constraints on extension candidates using indicator constraints. Also ensure that the flow equals zero if the arc is not build"
   ]
  },
  {
   "cell_type": "code",
   "execution_count": 16,
   "metadata": {
    "collapsed": false,
    "deletable": true,
    "editable": true
   },
   "outputs": [],
   "source": [
    "for index in range(len(ds.getScnList())):\n",
    "    for arc in ds.getExtArcs():\n",
    "        mdl.add_indicator(x[arc], \n",
    "                          q[arc,index] -\n",
    "                          ds.getWeymouthConst(arc) * pi[ds.getFromNode(arc),index] +\n",
    "                          ds.getWeymouthConst(arc) * pi[ds.getToNode(arc),index] == 0,\n",
    "                          1)\n",
    "        mdl.add_indicator(x[arc], q[arc,index] == 0, 0)"
   ]
  },
  {
   "cell_type": "markdown",
   "metadata": {
    "deletable": true,
    "editable": true
   },
   "source": [
    "#### Express the business objective"
   ]
  },
  {
   "cell_type": "markdown",
   "metadata": {
    "deletable": true,
    "editable": true
   },
   "source": [
    "Set the objective function which is minimizing the investment costs for the new pipes"
   ]
  },
  {
   "cell_type": "code",
   "execution_count": 17,
   "metadata": {
    "collapsed": true,
    "deletable": true,
    "editable": true
   },
   "outputs": [],
   "source": [
    "mdl.minimize(mdl.sum(ds.getArcCost(arc) * x[arc] for arc in ds.getExtArcs()))"
   ]
  },
  {
   "cell_type": "markdown",
   "metadata": {
    "deletable": true,
    "editable": true
   },
   "source": [
    "Set objective as KPI for the model"
   ]
  },
  {
   "cell_type": "code",
   "execution_count": 18,
   "metadata": {
    "collapsed": false,
    "deletable": true,
    "editable": true
   },
   "outputs": [
    {
     "data": {
      "text/plain": [
       "DecisionKPI(name=Total Cost,expr=320.810x(source_1,source_3)+378.870x(sink_25,sink_12)+457.680x(s..)"
      ]
     },
     "execution_count": 18,
     "metadata": {},
     "output_type": "execute_result"
    }
   ],
   "source": [
    "total_cost = mdl.sum(ds.getArcCost(arc) * x[arc] for arc in ds.getExtArcs())\n",
    "mdl.add_kpi(total_cost, \"Total Cost\")"
   ]
  },
  {
   "cell_type": "markdown",
   "metadata": {
    "deletable": true,
    "editable": true
   },
   "source": [
    "## Step 5: Solve model and save the solution"
   ]
  },
  {
   "cell_type": "code",
   "execution_count": 19,
   "metadata": {
    "collapsed": false,
    "deletable": true,
    "editable": true
   },
   "outputs": [
    {
     "name": "stdout",
     "output_type": "stream",
     "text": [
      "\n",
      "Solving model....\n",
      "\n",
      "CPXPARAM_Read_DataCheck                          1\n",
      "Tried aggregator 3 times.\n",
      "MIP Presolve eliminated 16 rows and 15 columns.\n",
      "MIP Presolve modified 17 coefficients.\n",
      "Aggregator did 58 substitutions.\n",
      "Reduced MIP has 72 rows, 85 columns, and 256 nonzeros.\n",
      "Reduced MIP has 4 binaries, 0 generals, 0 SOSs, and 16 indicators.\n",
      "Presolve time = 0.01 sec. (0.32 ticks)\n",
      "Probing fixed 1 vars, tightened 50 bounds.\n",
      "Probing time = 0.00 sec. (0.04 ticks)\n",
      "Tried aggregator 1 time.\n",
      "MIP Presolve eliminated 0 rows and 3 columns.\n",
      "Reduced MIP has 72 rows, 82 columns, and 254 nonzeros.\n",
      "Reduced MIP has 3 binaries, 0 generals, 0 SOSs, and 12 indicators.\n",
      "Presolve time = 0.01 sec. (0.14 ticks)\n",
      "Probing time = 0.00 sec. (0.02 ticks)\n",
      "MIP emphasis: balance optimality and feasibility.\n",
      "MIP search method: dynamic search.\n",
      "Parallel mode: deterministic, using up to 16 threads.\n",
      "Root relaxation solution time = 0.00 sec. (0.21 ticks)\n",
      "\n",
      "        Nodes                                         Cuts/\n",
      "   Node  Left     Objective  IInf  Best Integer    Best Bound    ItCnt     Gap\n",
      "\n",
      "      0     0      457.6800     3                    457.6800       35         \n",
      "      0     0      949.8200     2                    Cuts: 25       41         \n",
      "*     0+    0                          949.8200      949.8200             0.00%\n",
      "      0     0        cutoff            949.8200                     41    0.00%\n",
      "Elapsed time = 0.22 sec. (1.66 ticks, tree = 0.01 MB, solutions = 1)\n",
      "\n",
      "Cover cuts applied:  2\n",
      "Implied bound cuts applied:  6\n",
      "\n",
      "Root node processing (before b&c):\n",
      "  Real time             =    0.23 sec. (1.67 ticks)\n",
      "Parallel b&c, 16 threads:\n",
      "  Real time             =    0.00 sec. (0.00 ticks)\n",
      "  Sync time (average)   =    0.00 sec.\n",
      "  Wait time (average)   =    0.00 sec.\n",
      "                          ------------\n",
      "Total (root+branch&cut) =    0.23 sec. (1.67 ticks)\n",
      "Solving done after 0.24 seconds.\n",
      "\n"
     ]
    }
   ],
   "source": [
    "from docplex.mp import sdetails\n",
    "print(\"\\nSolving model....\\n\")\n",
    "msol = mdl.solve(log_output=True)\n",
    "print(\"Solving done after %.2f\" % mdl.get_solve_details().time + \" seconds.\\n\")"
   ]
  },
  {
   "cell_type": "markdown",
   "metadata": {
    "deletable": true,
    "editable": true
   },
   "source": [
    "Store KPIs"
   ]
  },
  {
   "cell_type": "code",
   "execution_count": 20,
   "metadata": {
    "collapsed": false,
    "deletable": true,
    "editable": true
   },
   "outputs": [],
   "source": [
    "all_kpis = [(kp.name, kp.compute()) for kp in mdl.iter_kpis()]\n",
    "df_kpis = pd.DataFrame(all_kpis, columns=['kpi', 'value'])"
   ]
  },
  {
   "cell_type": "markdown",
   "metadata": {
    "deletable": true,
    "editable": true
   },
   "source": [
    "Save the extensions that should be build"
   ]
  },
  {
   "cell_type": "code",
   "execution_count": 21,
   "metadata": {
    "collapsed": false,
    "deletable": true,
    "editable": true
   },
   "outputs": [],
   "source": [
    "extensions = pd.DataFrame(columns=['Name', 'From', 'To', 'Length', 'Diameter', 'Cost', 'Build'])\n",
    "if msol:    \n",
    "    for arc in ds.getExtArcs():\n",
    "        name = ds.getArcName(arc)\n",
    "        extensions = extensions.append(pd.DataFrame([[name,\n",
    "                                                      ds.getFromNode(arc), \n",
    "                                                      ds.getToNode(arc), \n",
    "                                                      ds.getArcLength(arc), \n",
    "                                                      ds.getArcDiameter(arc), \n",
    "                                                      ds.getArcCost(arc),\n",
    "                                                      int(msol[x[arc]])]], \n",
    "                                                    columns=['Name', 'From', 'To', 'Length', 'Diameter', 'Cost', 'Build']), \n",
    "                                       ignore_index=True)  \n",
    "outputs['extensions_to_build'] = extensions"
   ]
  },
  {
   "cell_type": "markdown",
   "metadata": {
    "deletable": true,
    "editable": true
   },
   "source": [
    "## Step 6: Investigate the solution\n",
    "\n",
    "Visualize the result of the optimization"
   ]
  },
  {
   "cell_type": "code",
   "execution_count": 22,
   "metadata": {
    "collapsed": false,
    "deletable": true,
    "editable": true
   },
   "outputs": [
    {
     "name": "stdout",
     "output_type": "stream",
     "text": [
      "Investment cost: 949.82 Mio. €\n",
      "\n",
      "Number of built pipes: 3\n",
      "\n",
      "Visualization of built pipes:\n",
      "\n",
      "extension3 ('source_1', 'source_3')\n",
      "extension2 ('sink_26', 'source_2')\n",
      "extension1 ('sink_1', 'sink_24')\n"
     ]
    },
    {
     "data": {
      "image/png": "[encoded data removed]",
      "text/plain": [
       "<matplotlib.figure.Figure at 0x7f39b66ca650>"
      ]
     },
     "metadata": {},
     "output_type": "display_data"
    },
    {
     "name": "stdout",
     "output_type": "stream",
     "text": [
      "Solution visualization of scenario 1\n",
      "\n"
     ]
    },
    {
     "data": {
      "image/png": "[encoded data removed]",
      "text/plain": [
       "<matplotlib.figure.Figure at 0x7f3a07fd6f50>"
      ]
     },
     "metadata": {},
     "output_type": "display_data"
    },
    {
     "name": "stdout",
     "output_type": "stream",
     "text": [
      "Solution visualization of scenario 2\n",
      "\n"
     ]
    },
    {
     "data": {
      "image/png": "[encoded data removed]",
      "text/plain": [
       "<matplotlib.figure.Figure at 0x7f3a07fd6d50>"
      ]
     },
     "metadata": {},
     "output_type": "display_data"
    }
   ],
   "source": [
    "#dd-ignore\n",
    "if msol:\n",
    "    # Retrieve solution values\n",
    "    pressure = {}\n",
    "    origflow = {}\n",
    "    extflow = {}\n",
    "\n",
    "    for index in list(range(len(ds.getScnList()))):\n",
    "        for node in ds.getNodes():\n",
    "            pressure[node, index] = sqrt(msol[pi[node, index]])\n",
    "\n",
    "        for arc in ds.getOrigArcs():\n",
    "            origflow[arc, index] = msol[q[arc, index]]\n",
    "\n",
    "        for arc in ds.getExtArcs():\n",
    "            if msol[x[arc]] > 0.5:\n",
    "                extflow[arc, index] = msol[q[arc, index]]\n",
    "\n",
    "    print(\"Investment cost: \" + str(mdl.get_solve_details().best_bound) + \" Mio. €\\n\")\n",
    "    \n",
    "    # Show built arcs\n",
    "    print(\"Number of built pipes: \" + str(len([arc for arc in ds.getExtArcs() if msol[x[arc]] > 0.5])) + \"\\n\")\n",
    "    print(\"Visualization of built pipes:\\n\")\n",
    "\n",
    "    for arc in [arc for arc in ds.getExtArcs() if msol[x[arc]] > 0.5]:\n",
    "        print ds.getArcName(arc) + \" \" + str(arc)\n",
    "\n",
    "    H = ds.getGraphCopy()\n",
    "    for arc in [arc for arc in ds.getExtArcs() if msol[x[arc]] < 0.5]:\n",
    "        H.remove_edge(*arc)\n",
    "    nx.draw(H,\n",
    "            nx.get_node_attributes(H, 'pos'),\n",
    "            arrows=False)\n",
    "    nx.draw_networkx_edges(H,\n",
    "                           nx.get_node_attributes(H, 'pos'),\n",
    "                           edgelist=[arc for arc in ds.getExtArcs() if msol[x[arc]] > 0.5],\n",
    "                           arrows=False,\n",
    "                           edge_color='b',\n",
    "                           width=3)\n",
    "    plt.show()\n",
    "\n",
    "    # Show scenario pressure distribution\n",
    "    for index in list(range(len(ds.getScnList()))):\n",
    "        print(\"Solution visualization of scenario %s\" % (index + 1) + \"\\n\")\n",
    "        H = ds.getGraphCopy()\n",
    "\n",
    "        for arc in [arc for arc in ds.getExtArcs() if msol[x[arc]] < 0.5]:\n",
    "            H.remove_edge(*arc)\n",
    "\n",
    "        nx.draw(H,\n",
    "                nx.get_node_attributes(H, 'pos'),\n",
    "                arrows=False,\n",
    "                node_color=[pow(pressure[node, index], 2) for node in H.nodes()],\n",
    "                cmap='rainbow',\n",
    "                vmin=0,\n",
    "                vmax=pow(max(ds.getNodePressureMax(node) for node in H.nodes()), 2))\n",
    "        plt.show()\n",
    "\n",
    "else:\n",
    "    print(\"\\n No solution found, specified gas quantities cannot be transported. The provided extension candidates are not sufficient.\\n\")"
   ]
  },
  {
   "cell_type": "markdown",
   "metadata": {
    "deletable": true,
    "editable": true
   },
   "source": [
    "#### Comments\n",
    "\n",
    "The node colors are selected according to a rainbow color scheme, i.e., high pressure is marked in red while low pressure is marked blue. Modifying the scenario scaling, or the input scenarios, or the set of extension candidates in section [Step 2: Load / Set Parameters](#Step-2:-Load-/-Set-Parameters) yields different results. These parameters allow the experts at transmission system operators to automatically compute reasonable and cost-efficient gas network extensions."
   ]
  },
  {
   "cell_type": "markdown",
   "metadata": {
    "deletable": true,
    "editable": true
   },
   "source": [
    "### Authors\n",
    "\n",
    "Dr. Jesco Humpola is a Senior Data Science Engineer with Data Science Elite team (IBM Analytics) where he specializes in Decision Support solutions."
   ]
  }
 ],
 "metadata": {
  "kernelspec": {
   "display_name": "Python2.7",
   "language": "python",
   "name": "py2localspark"
  },
  "language_info": {
   "codemirror_mode": {
    "name": "ipython",
    "version": 2
   },
   "file_extension": ".py",
   "mimetype": "text/x-python",
   "name": "python",
   "nbconvert_exporter": "python",
   "pygments_lexer": "ipython2",
   "version": "2.7.13"
  }
 },
 "nbformat": 4,
 "nbformat_minor": 1
}
